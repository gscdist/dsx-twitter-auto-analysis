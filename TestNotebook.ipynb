{
    "nbformat_minor": 1, 
    "nbformat": 4, 
    "cells": [
        {
            "source": "", 
            "execution_count": null, 
            "cell_type": "code", 
            "metadata": {
                "collapsed": true
            }, 
            "outputs": []
        }
    ], 
    "metadata": {
        "kernelspec": {
            "name": "python2-spark21", 
            "language": "python", 
            "display_name": "Python 2 with Spark 2.1"
        }, 
        "language_info": {
            "codemirror_mode": {
                "name": "ipython", 
                "version": 2
            }, 
            "name": "python", 
            "nbconvert_exporter": "python", 
            "pygments_lexer": "ipython2", 
            "version": "2.7.11", 
            "mimetype": "text/x-python", 
            "file_extension": ".py"
        }
    }
}